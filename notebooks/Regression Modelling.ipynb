{
 "metadata": {
  "language_info": {
   "codemirror_mode": {
    "name": "ipython",
    "version": 3
   },
   "file_extension": ".py",
   "mimetype": "text/x-python",
   "name": "python",
   "nbconvert_exporter": "python",
   "pygments_lexer": "ipython3",
   "version": 3
  },
  "orig_nbformat": 4
 },
 "nbformat": 4,
 "nbformat_minor": 2,
 "cells": [
  {
   "source": [
    "## Energy Time Series Modelling\n",
    "The goal of this notebook is to use the weather features dataset to help with the prediction of the energy datset.\n",
    "I am first going to develop a baseline model that does not use any of the weather features, but simply historic energy generation data to forecast future generation then add on weather data to improve the accuracy of the forecast"
   ],
   "cell_type": "markdown",
   "metadata": {}
  },
  {
   "cell_type": "code",
   "execution_count": null,
   "metadata": {},
   "outputs": [],
   "source": []
  }
 ]
}